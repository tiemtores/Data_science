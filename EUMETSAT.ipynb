{
  "nbformat": 4,
  "nbformat_minor": 0,
  "metadata": {
    "colab": {
      "provenance": [],
      "authorship_tag": "ABX9TyOcT24ZRI98N+fPo/HRN+79",
      "include_colab_link": true
    },
    "kernelspec": {
      "name": "python3",
      "display_name": "Python 3"
    },
    "language_info": {
      "name": "python"
    }
  },
  "cells": [
    {
      "cell_type": "markdown",
      "metadata": {
        "id": "view-in-github",
        "colab_type": "text"
      },
      "source": [
        "<a href=\"https://colab.research.google.com/github/tiemtores/Data_science/blob/main/EUMETSAT.ipynb\" target=\"_parent\"><img src=\"https://colab.research.google.com/assets/colab-badge.svg\" alt=\"Open In Colab\"/></a>"
      ]
    },
    {
      "cell_type": "code",
      "source": [
        "pip install eumdac"
      ],
      "metadata": {
        "colab": {
          "base_uri": "https://localhost:8080/"
        },
        "id": "BRx65YxOSIhr",
        "outputId": "5d87092c-a617-492f-dcf3-7c4cdd143db7"
      },
      "execution_count": 13,
      "outputs": [
        {
          "output_type": "stream",
          "name": "stdout",
          "text": [
            "Requirement already satisfied: eumdac in /usr/local/lib/python3.11/dist-packages (3.0.0)\n",
            "Requirement already satisfied: requests>=2.5.0 in /usr/local/lib/python3.11/dist-packages (from eumdac) (2.32.3)\n",
            "Requirement already satisfied: pyyaml in /usr/local/lib/python3.11/dist-packages (from eumdac) (6.0.2)\n",
            "Requirement already satisfied: urllib3 in /usr/local/lib/python3.11/dist-packages (from eumdac) (2.3.0)\n",
            "Requirement already satisfied: charset-normalizer<4,>=2 in /usr/local/lib/python3.11/dist-packages (from requests>=2.5.0->eumdac) (3.4.1)\n",
            "Requirement already satisfied: idna<4,>=2.5 in /usr/local/lib/python3.11/dist-packages (from requests>=2.5.0->eumdac) (3.10)\n",
            "Requirement already satisfied: certifi>=2017.4.17 in /usr/local/lib/python3.11/dist-packages (from requests>=2.5.0->eumdac) (2025.1.31)\n"
          ]
        }
      ]
    },
    {
      "cell_type": "code",
      "source": [
        "pip install rasterio"
      ],
      "metadata": {
        "colab": {
          "base_uri": "https://localhost:8080/"
        },
        "id": "crNHIL78SaLY",
        "outputId": "eb33f959-b254-4a29-ff8e-0629b9850b28"
      },
      "execution_count": 14,
      "outputs": [
        {
          "output_type": "stream",
          "name": "stdout",
          "text": [
            "Requirement already satisfied: rasterio in /usr/local/lib/python3.11/dist-packages (1.4.3)\n",
            "Requirement already satisfied: affine in /usr/local/lib/python3.11/dist-packages (from rasterio) (2.4.0)\n",
            "Requirement already satisfied: attrs in /usr/local/lib/python3.11/dist-packages (from rasterio) (25.3.0)\n",
            "Requirement already satisfied: certifi in /usr/local/lib/python3.11/dist-packages (from rasterio) (2025.1.31)\n",
            "Requirement already satisfied: click>=4.0 in /usr/local/lib/python3.11/dist-packages (from rasterio) (8.1.8)\n",
            "Requirement already satisfied: cligj>=0.5 in /usr/local/lib/python3.11/dist-packages (from rasterio) (0.7.2)\n",
            "Requirement already satisfied: numpy>=1.24 in /usr/local/lib/python3.11/dist-packages (from rasterio) (2.0.2)\n",
            "Requirement already satisfied: click-plugins in /usr/local/lib/python3.11/dist-packages (from rasterio) (1.1.1)\n",
            "Requirement already satisfied: pyparsing in /usr/local/lib/python3.11/dist-packages (from rasterio) (3.2.3)\n"
          ]
        }
      ]
    },
    {
      "cell_type": "code",
      "source": [
        "pip install requests"
      ],
      "metadata": {
        "colab": {
          "base_uri": "https://localhost:8080/"
        },
        "id": "ZI5Mz4jzSId4",
        "outputId": "1764bba3-e802-42ca-9704-9af317101650"
      },
      "execution_count": 15,
      "outputs": [
        {
          "output_type": "stream",
          "name": "stdout",
          "text": [
            "Requirement already satisfied: requests in /usr/local/lib/python3.11/dist-packages (2.32.3)\n",
            "Requirement already satisfied: charset-normalizer<4,>=2 in /usr/local/lib/python3.11/dist-packages (from requests) (3.4.1)\n",
            "Requirement already satisfied: idna<4,>=2.5 in /usr/local/lib/python3.11/dist-packages (from requests) (3.10)\n",
            "Requirement already satisfied: urllib3<3,>=1.21.1 in /usr/local/lib/python3.11/dist-packages (from requests) (2.3.0)\n",
            "Requirement already satisfied: certifi>=2017.4.17 in /usr/local/lib/python3.11/dist-packages (from requests) (2025.1.31)\n"
          ]
        }
      ]
    },
    {
      "cell_type": "code",
      "source": [],
      "metadata": {
        "id": "FnWAcFkRSIZf"
      },
      "execution_count": 15,
      "outputs": []
    },
    {
      "cell_type": "code",
      "source": [],
      "metadata": {
        "id": "NJjLfktfSINJ"
      },
      "execution_count": 15,
      "outputs": []
    },
    {
      "cell_type": "code",
      "source": [
        "import eumdac\n",
        "import rasterio\n",
        "import matplotlib.pyplot as plt\n",
        "from rasterio.plot import show\n",
        "\n",
        "# 🔹 Remplacez par vos identifiants API EUMETSAT\n",
        "consumer_key = \"BQLeF_sKUcMLzfOghyLqifmLFkAa\"\n",
        "consumer_secret = \"qLlLiKfjV_OG1xD1i2fAP7sw8iAa\"\n",
        "\n",
        "# Connexion à l'API\n",
        "credentials = eumdac.AccessToken((consumer_key, consumer_secret))\n",
        "datastore = eumdac.DataStore(credentials)\n",
        "\n",
        "# 🔎 Lister les collections disponibles\n",
        "print(\"📌 Collections disponibles sur EUMETSAT Data Store :\")\n",
        "for collection in datastore.collections:\n",
        "    print(\"-\", collection)\n",
        "\n",
        "# 🔹 Choisir une collection (ex: Sentinel-3 OLCI L1B)\n",
        "collection_name = \"EO:EUM:DAT:SENTINEL-3:OLCI:L1B\"\n",
        "collection = datastore.get_collection(collection_name)\n",
        "\n",
        "# 🔎 Recherche du dernier produit disponible\n",
        "products = list(collection.search())\n",
        "if not products:\n",
        "    print(\"⚠️ Aucun produit trouvé dans cette collection.\")\n",
        "else:\n",
        "    latest_product = sorted(products, key=lambda p: p.date, reverse=True)[0]\n",
        "    print(f\"📥 Téléchargement de : {latest_product}\")\n",
        "\n",
        "    # Téléchargement du fichier\n",
        "    file_path = f\"{latest_product}.zip\"\n",
        "    with open(file_path, \"wb\") as file:\n",
        "        file.write(latest_product.open().read())\n",
        "\n",
        "    print(f\"✅ Téléchargement terminé : {file_path}\")\n",
        "\n",
        "    # 📌 Affichage de l’image si le fichier est un raster\n",
        "    with rasterio.open(file_path) as dataset:\n",
        "        show(dataset.read(1), cmap='gray')\n",
        "        plt.title(\"Image Satellite - Sentinel-3\")\n",
        "        plt.show()\n"
      ],
      "metadata": {
        "colab": {
          "base_uri": "https://localhost:8080/",
          "height": 1000
        },
        "id": "H9Nn-MScSGp4",
        "outputId": "fba82e08-30e0-4065-c586-65abcd263ff7"
      },
      "execution_count": 24,
      "outputs": [
        {
          "output_type": "stream",
          "name": "stdout",
          "text": [
            "📌 Collections disponibles sur EUMETSAT Data Store :\n",
            "- EO:EUM:DAT:METOP:GLB-SST-NC\n",
            "- EO:EUM:DAT:MSG:CLM-IODC\n",
            "- EO:EUM:DAT:MSG:CLM\n",
            "- EO:EUM:DAT:0142\n",
            "- EO:EUM:DAT:0143\n",
            "- EO:EUM:DAT:0374\n",
            "- EO:EUM:DAT:0406\n",
            "- EO:EUM:DAT:0407\n",
            "- EO:EUM:DAT:0408\n",
            "- EO:EUM:DAT:0409\n",
            "- EO:EUM:DAT:0410\n",
            "- EO:EUM:DAT:0411\n",
            "- EO:EUM:DAT:0412\n",
            "- EO:EUM:DAT:0413\n",
            "- EO:EUM:DAT:0414\n",
            "- EO:EUM:DAT:0415\n",
            "- EO:EUM:DAT:0416\n",
            "- EO:EUM:DAT:0417\n",
            "- EO:EUM:DAT:0601\n",
            "- EO:EUM:DAT:0676\n",
            "- EO:EUM:DAT:0677\n",
            "- EO:EUM:DAT:0678\n",
            "- EO:EUM:DAT:0683\n",
            "- EO:EUM:DAT:0684\n",
            "- EO:EUM:DAT:0685\n",
            "- EO:EUM:DAT:0850\n",
            "- EO:EUM:DAT:0851\n",
            "- EO:EUM:DAT:0852\n",
            "- EO:EUM:DAT:0853\n",
            "- EO:EUM:DAT:0854\n",
            "- EO:EUM:DAT:0855\n",
            "- EO:EUM:DAT:0856\n",
            "- EO:EUM:DAT:0857\n",
            "- EO:EUM:DAT:0858\n",
            "- EO:EUM:DAT:0859\n",
            "- EO:EUM:DAT:0690\n",
            "- EO:EUM:DAT:0691\n",
            "- EO:EUM:DAT:0782\n",
            "- EO:EUM:DAT:0799\n",
            "- EO:EUM:DAT:0686\n",
            "- EO:EUM:DAT:0687\n",
            "- EO:EUM:DAT:0688\n",
            "- EO:EUM:DAT:0998\n",
            "- EO:EUM:DAT:METOP:AMSUL1\n",
            "- EO:EUM:DAT:METOP:ASCSZF1B\n",
            "- EO:EUM:DAT:METOP:ASCSZO1B\n",
            "- EO:EUM:DAT:METOP:ASCSZR1B\n",
            "- EO:EUM:DAT:METOP:AVHRRL1\n",
            "- EO:EUM:DAT:METOP:GOMEL1\n",
            "- EO:EUM:DAT:METOP:IASIL1C-ALL\n",
            "- EO:EUM:DAT:METOP:IASSND02\n",
            "- EO:EUM:DAT:METOP:MHSL1\n",
            "- EO:EUM:DAT:METOP:OAS025\n",
            "- EO:EUM:DAT:METOP:OSI-104\n",
            "- EO:EUM:DAT:METOP:OSI-150-A\n",
            "- EO:EUM:DAT:METOP:OSI-150-B\n",
            "- EO:EUM:DAT:METOP:SOMO12\n",
            "- EO:EUM:DAT:METOP:SOMO25\n",
            "- EO:EUM:DAT:MSG:HRSEVIRI-IODC\n",
            "- EO:EUM:DAT:MSG:HRSEVIRI\n",
            "- EO:EUM:DAT:MSG:MSG15-RSS\n",
            "- EO:EUM:DAT:MSG:RSS-CLM\n",
            "- EO:EUM:DAT:MULT:HIRSL1\n",
            "- EO:EUM:DAT:0274\n",
            "- EO:EUM:DAT:0662\n",
            "- EO:EUM:DAT:MSG:CTH-IODC\n",
            "- EO:EUM:DAT:MSG:CTH\n",
            "- EO:EUM:DAT:METOP:IASPCS01\n",
            "- EO:EUM:DAT:0665\n"
          ]
        },
        {
          "output_type": "error",
          "ename": "CollectionError",
          "evalue": "Could not get search options for EO:EUM:DAT:SENTINEL-3:OLCI:L1B - Not found (404)",
          "traceback": [
            "\u001b[0;31m---------------------------------------------------------------------------\u001b[0m",
            "\u001b[0;31mHTTPError\u001b[0m                                 Traceback (most recent call last)",
            "\u001b[0;32m/usr/local/lib/python3.11/dist-packages/eumdac/errors.py\u001b[0m in \u001b[0;36meumdac_raise_for_status\u001b[0;34m(msg, response, exc_cls)\u001b[0m\n\u001b[1;32m     23\u001b[0m     \u001b[0;32mtry\u001b[0m\u001b[0;34m:\u001b[0m\u001b[0;34m\u001b[0m\u001b[0;34m\u001b[0m\u001b[0m\n\u001b[0;32m---> 24\u001b[0;31m         \u001b[0mresponse\u001b[0m\u001b[0;34m.\u001b[0m\u001b[0mraise_for_status\u001b[0m\u001b[0;34m(\u001b[0m\u001b[0;34m)\u001b[0m\u001b[0;34m\u001b[0m\u001b[0;34m\u001b[0m\u001b[0m\n\u001b[0m\u001b[1;32m     25\u001b[0m     \u001b[0;32mexcept\u001b[0m \u001b[0mrequests\u001b[0m\u001b[0;34m.\u001b[0m\u001b[0mHTTPError\u001b[0m \u001b[0;32mas\u001b[0m \u001b[0mexc\u001b[0m\u001b[0;34m:\u001b[0m\u001b[0;34m\u001b[0m\u001b[0;34m\u001b[0m\u001b[0m\n",
            "\u001b[0;32m/usr/local/lib/python3.11/dist-packages/requests/models.py\u001b[0m in \u001b[0;36mraise_for_status\u001b[0;34m(self)\u001b[0m\n\u001b[1;32m   1023\u001b[0m         \u001b[0;32mif\u001b[0m \u001b[0mhttp_error_msg\u001b[0m\u001b[0;34m:\u001b[0m\u001b[0;34m\u001b[0m\u001b[0;34m\u001b[0m\u001b[0m\n\u001b[0;32m-> 1024\u001b[0;31m             \u001b[0;32mraise\u001b[0m \u001b[0mHTTPError\u001b[0m\u001b[0;34m(\u001b[0m\u001b[0mhttp_error_msg\u001b[0m\u001b[0;34m,\u001b[0m \u001b[0mresponse\u001b[0m\u001b[0;34m=\u001b[0m\u001b[0mself\u001b[0m\u001b[0;34m)\u001b[0m\u001b[0;34m\u001b[0m\u001b[0;34m\u001b[0m\u001b[0m\n\u001b[0m\u001b[1;32m   1025\u001b[0m \u001b[0;34m\u001b[0m\u001b[0m\n",
            "\u001b[0;31mHTTPError\u001b[0m: 404 Client Error:  for url: https://api.eumetsat.int/data/search-products/1.0.0/osdd?pi=EO:EUM:DAT:SENTINEL-3:OLCI:L1B",
            "\nThe above exception was the direct cause of the following exception:\n",
            "\u001b[0;31mCollectionError\u001b[0m                           Traceback (most recent call last)",
            "\u001b[0;32m<ipython-input-24-f49152ca2d35>\u001b[0m in \u001b[0;36m<cell line: 0>\u001b[0;34m()\u001b[0m\n\u001b[1;32m     22\u001b[0m \u001b[0;34m\u001b[0m\u001b[0m\n\u001b[1;32m     23\u001b[0m \u001b[0;31m# 🔎 Recherche du dernier produit disponible\u001b[0m\u001b[0;34m\u001b[0m\u001b[0;34m\u001b[0m\u001b[0m\n\u001b[0;32m---> 24\u001b[0;31m \u001b[0mproducts\u001b[0m \u001b[0;34m=\u001b[0m \u001b[0mlist\u001b[0m\u001b[0;34m(\u001b[0m\u001b[0mcollection\u001b[0m\u001b[0;34m.\u001b[0m\u001b[0msearch\u001b[0m\u001b[0;34m(\u001b[0m\u001b[0;34m)\u001b[0m\u001b[0;34m)\u001b[0m\u001b[0;34m\u001b[0m\u001b[0;34m\u001b[0m\u001b[0m\n\u001b[0m\u001b[1;32m     25\u001b[0m \u001b[0;32mif\u001b[0m \u001b[0;32mnot\u001b[0m \u001b[0mproducts\u001b[0m\u001b[0;34m:\u001b[0m\u001b[0;34m\u001b[0m\u001b[0;34m\u001b[0m\u001b[0m\n\u001b[1;32m     26\u001b[0m     \u001b[0mprint\u001b[0m\u001b[0;34m(\u001b[0m\u001b[0;34m\"⚠️ Aucun produit trouvé dans cette collection.\"\u001b[0m\u001b[0;34m)\u001b[0m\u001b[0;34m\u001b[0m\u001b[0;34m\u001b[0m\u001b[0m\n",
            "\u001b[0;32m/usr/local/lib/python3.11/dist-packages/eumdac/collection.py\u001b[0m in \u001b[0;36msearch\u001b[0;34m(self, **query)\u001b[0m\n\u001b[1;32m    347\u001b[0m         \u001b[0mthey\u001b[0m \u001b[0mcan\u001b[0m \u001b[0mbe\u001b[0m \u001b[0mlisted\u001b[0m \u001b[0;32mwith\u001b[0m \u001b[0mthe\u001b[0m \u001b[0mproperty\u001b[0m \u001b[0msearch_options\u001b[0m\u001b[0;34m\u001b[0m\u001b[0;34m\u001b[0m\u001b[0m\n\u001b[1;32m    348\u001b[0m         \"\"\"\n\u001b[0;32m--> 349\u001b[0;31m         \u001b[0;32mreturn\u001b[0m \u001b[0mSearchResults\u001b[0m\u001b[0;34m(\u001b[0m\u001b[0mself\u001b[0m\u001b[0;34m,\u001b[0m \u001b[0mquery\u001b[0m\u001b[0;34m)\u001b[0m\u001b[0;34m\u001b[0m\u001b[0;34m\u001b[0m\u001b[0m\n\u001b[0m\u001b[1;32m    350\u001b[0m \u001b[0;34m\u001b[0m\u001b[0m\n\u001b[1;32m    351\u001b[0m     \u001b[0;34m@\u001b[0m\u001b[0mproperty\u001b[0m\u001b[0;34m\u001b[0m\u001b[0;34m\u001b[0m\u001b[0m\n",
            "\u001b[0;32m/usr/local/lib/python3.11/dist-packages/eumdac/collection.py\u001b[0m in \u001b[0;36m__init__\u001b[0;34m(self, collection, query)\u001b[0m\n\u001b[1;32m     68\u001b[0m \u001b[0;34m\u001b[0m\u001b[0m\n\u001b[1;32m     69\u001b[0m         \u001b[0mself\u001b[0m\u001b[0;34m.\u001b[0m\u001b[0mcollection\u001b[0m \u001b[0;34m=\u001b[0m \u001b[0mcollection\u001b[0m\u001b[0;34m\u001b[0m\u001b[0;34m\u001b[0m\u001b[0m\n\u001b[0;32m---> 70\u001b[0;31m         \u001b[0mself\u001b[0m\u001b[0;34m.\u001b[0m\u001b[0mquery\u001b[0m \u001b[0;34m=\u001b[0m \u001b[0mquery\u001b[0m  \u001b[0;31m# type: ignore[assignment]\u001b[0m\u001b[0;34m\u001b[0m\u001b[0;34m\u001b[0m\u001b[0m\n\u001b[0m\u001b[1;32m     71\u001b[0m         \u001b[0;31m# Use bigger pages for brief searches\u001b[0m\u001b[0;34m\u001b[0m\u001b[0;34m\u001b[0m\u001b[0m\n\u001b[1;32m     72\u001b[0m         \u001b[0;32mif\u001b[0m \u001b[0mself\u001b[0m\u001b[0;34m.\u001b[0m\u001b[0mquery\u001b[0m\u001b[0;34m[\u001b[0m\u001b[0;34m\"set\"\u001b[0m\u001b[0;34m]\u001b[0m \u001b[0;34m==\u001b[0m \u001b[0;34m\"brief\"\u001b[0m\u001b[0;34m:\u001b[0m\u001b[0;34m\u001b[0m\u001b[0;34m\u001b[0m\u001b[0m\n",
            "\u001b[0;32m/usr/local/lib/python3.11/dist-packages/eumdac/collection.py\u001b[0m in \u001b[0;36mquery\u001b[0;34m(self, query)\u001b[0m\n\u001b[1;32m    125\u001b[0m     \u001b[0;32mdef\u001b[0m \u001b[0mquery\u001b[0m\u001b[0;34m(\u001b[0m\u001b[0mself\u001b[0m\u001b[0;34m,\u001b[0m \u001b[0mquery\u001b[0m\u001b[0;34m:\u001b[0m \u001b[0mMapping\u001b[0m\u001b[0;34m[\u001b[0m\u001b[0mstr\u001b[0m\u001b[0;34m,\u001b[0m \u001b[0mAny\u001b[0m\u001b[0;34m]\u001b[0m\u001b[0;34m)\u001b[0m \u001b[0;34m->\u001b[0m \u001b[0;32mNone\u001b[0m\u001b[0;34m:\u001b[0m\u001b[0;34m\u001b[0m\u001b[0;34m\u001b[0m\u001b[0m\n\u001b[1;32m    126\u001b[0m         \u001b[0;34m\"\"\"Set the query terms.\"\"\"\u001b[0m\u001b[0;34m\u001b[0m\u001b[0;34m\u001b[0m\u001b[0m\n\u001b[0;32m--> 127\u001b[0;31m         \u001b[0mvalid_keys\u001b[0m \u001b[0;34m=\u001b[0m \u001b[0mset\u001b[0m\u001b[0;34m(\u001b[0m\u001b[0mself\u001b[0m\u001b[0;34m.\u001b[0m\u001b[0mcollection\u001b[0m\u001b[0;34m.\u001b[0m\u001b[0msearch_options\u001b[0m\u001b[0;34m)\u001b[0m\u001b[0;34m\u001b[0m\u001b[0;34m\u001b[0m\u001b[0m\n\u001b[0m\u001b[1;32m    128\u001b[0m         \u001b[0mnew_keys\u001b[0m \u001b[0;34m=\u001b[0m \u001b[0mset\u001b[0m\u001b[0;34m(\u001b[0m\u001b[0mquery\u001b[0m\u001b[0;34m)\u001b[0m\u001b[0;34m\u001b[0m\u001b[0;34m\u001b[0m\u001b[0m\n\u001b[1;32m    129\u001b[0m         \u001b[0mdiff\u001b[0m \u001b[0;34m=\u001b[0m \u001b[0mnew_keys\u001b[0m\u001b[0;34m.\u001b[0m\u001b[0mdifference\u001b[0m\u001b[0;34m(\u001b[0m\u001b[0mvalid_keys\u001b[0m\u001b[0;34m)\u001b[0m\u001b[0;34m\u001b[0m\u001b[0;34m\u001b[0m\u001b[0m\n",
            "\u001b[0;32m/usr/local/lib/python3.11/dist-packages/eumdac/collection.py\u001b[0m in \u001b[0;36msearch_options\u001b[0;34m(self)\u001b[0m\n\u001b[1;32m    364\u001b[0m                 \u001b[0mheaders\u001b[0m\u001b[0;34m=\u001b[0m\u001b[0meumdac\u001b[0m\u001b[0;34m.\u001b[0m\u001b[0mcommon\u001b[0m\u001b[0;34m.\u001b[0m\u001b[0mheaders\u001b[0m\u001b[0;34m,\u001b[0m\u001b[0;34m\u001b[0m\u001b[0;34m\u001b[0m\u001b[0m\n\u001b[1;32m    365\u001b[0m             )\n\u001b[0;32m--> 366\u001b[0;31m             eumdac_raise_for_status(\n\u001b[0m\u001b[1;32m    367\u001b[0m                 \u001b[0;34mf\"Could not get search options for {self._id}\"\u001b[0m\u001b[0;34m,\u001b[0m \u001b[0mresponse\u001b[0m\u001b[0;34m,\u001b[0m \u001b[0mCollectionError\u001b[0m\u001b[0;34m\u001b[0m\u001b[0;34m\u001b[0m\u001b[0m\n\u001b[1;32m    368\u001b[0m             )\n",
            "\u001b[0;32m/usr/local/lib/python3.11/dist-packages/eumdac/errors.py\u001b[0m in \u001b[0;36meumdac_raise_for_status\u001b[0;34m(msg, response, exc_cls)\u001b[0m\n\u001b[1;32m     42\u001b[0m             \u001b[0mmsg\u001b[0m \u001b[0;34m+=\u001b[0m \u001b[0;34mf\" (due to a server-side error ({response.status_code})\"\u001b[0m\u001b[0;34m\u001b[0m\u001b[0;34m\u001b[0m\u001b[0m\n\u001b[1;32m     43\u001b[0m         \u001b[0mexception\u001b[0m \u001b[0;34m=\u001b[0m \u001b[0mexc_cls\u001b[0m\u001b[0;34m(\u001b[0m\u001b[0mmsg\u001b[0m\u001b[0;34m,\u001b[0m \u001b[0mextra_info\u001b[0m\u001b[0;34m)\u001b[0m\u001b[0;34m\u001b[0m\u001b[0;34m\u001b[0m\u001b[0m\n\u001b[0;32m---> 44\u001b[0;31m         \u001b[0;32mraise\u001b[0m \u001b[0mexception\u001b[0m \u001b[0;32mfrom\u001b[0m \u001b[0mexc\u001b[0m\u001b[0;34m\u001b[0m\u001b[0;34m\u001b[0m\u001b[0m\n\u001b[0m\u001b[1;32m     45\u001b[0m \u001b[0;34m\u001b[0m\u001b[0m\n\u001b[1;32m     46\u001b[0m \u001b[0;34m\u001b[0m\u001b[0m\n",
            "\u001b[0;31mCollectionError\u001b[0m: Could not get search options for EO:EUM:DAT:SENTINEL-3:OLCI:L1B - Not found (404)"
          ]
        }
      ]
    },
    {
      "cell_type": "markdown",
      "source": [],
      "metadata": {
        "id": "bh4J8aYv_Tzd"
      }
    },
    {
      "cell_type": "code",
      "source": [],
      "metadata": {
        "id": "iOsXtSqDjeME"
      },
      "execution_count": null,
      "outputs": []
    },
    {
      "cell_type": "code",
      "source": [],
      "metadata": {
        "id": "eEVdOBEXjeIs"
      },
      "execution_count": null,
      "outputs": []
    },
    {
      "cell_type": "code",
      "source": [],
      "metadata": {
        "id": "0YdSALp-jeFY"
      },
      "execution_count": null,
      "outputs": []
    },
    {
      "cell_type": "code",
      "source": [],
      "metadata": {
        "id": "LV0spXomjeCN"
      },
      "execution_count": null,
      "outputs": []
    },
    {
      "cell_type": "code",
      "source": [],
      "metadata": {
        "id": "QETWPPoEjd-8"
      },
      "execution_count": null,
      "outputs": []
    },
    {
      "cell_type": "code",
      "source": [],
      "metadata": {
        "id": "pHC4jIiFjd7e"
      },
      "execution_count": null,
      "outputs": []
    },
    {
      "cell_type": "code",
      "source": [],
      "metadata": {
        "id": "yqM-coTpjd3_"
      },
      "execution_count": null,
      "outputs": []
    },
    {
      "cell_type": "code",
      "source": [],
      "metadata": {
        "id": "zV9MyrbXjdzs"
      },
      "execution_count": null,
      "outputs": []
    },
    {
      "cell_type": "code",
      "source": [],
      "metadata": {
        "id": "tckSfgIIjdwl"
      },
      "execution_count": null,
      "outputs": []
    },
    {
      "cell_type": "code",
      "source": [],
      "metadata": {
        "id": "luzT8B5cjdtV"
      },
      "execution_count": null,
      "outputs": []
    },
    {
      "cell_type": "code",
      "source": [],
      "metadata": {
        "id": "y8SickM5jdqG"
      },
      "execution_count": null,
      "outputs": []
    },
    {
      "cell_type": "code",
      "source": [],
      "metadata": {
        "id": "3GdGtYtjjdm2"
      },
      "execution_count": null,
      "outputs": []
    },
    {
      "cell_type": "code",
      "source": [],
      "metadata": {
        "id": "ww94v5lKjdjY"
      },
      "execution_count": null,
      "outputs": []
    },
    {
      "cell_type": "code",
      "source": [],
      "metadata": {
        "id": "nBryb7Tzjdf9"
      },
      "execution_count": null,
      "outputs": []
    },
    {
      "cell_type": "code",
      "source": [],
      "metadata": {
        "id": "88tsT4RUjdcU"
      },
      "execution_count": null,
      "outputs": []
    },
    {
      "cell_type": "code",
      "source": [],
      "metadata": {
        "id": "NTSA3z3kjdYX"
      },
      "execution_count": null,
      "outputs": []
    }
  ]
}